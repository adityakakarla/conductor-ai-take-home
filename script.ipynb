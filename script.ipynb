{
 "cells": [
  {
   "cell_type": "code",
   "execution_count": 9,
   "metadata": {},
   "outputs": [],
   "source": [
    "import PyPDF2\n",
    "import ollama\n",
    "import re"
   ]
  },
  {
   "cell_type": "markdown",
   "metadata": {},
   "source": [
    "## Approach 1: Using RegEx To Find Highest Numerical Value (No Scale)\n",
    "Most reliable, though does not include scale context."
   ]
  },
  {
   "cell_type": "code",
   "execution_count": 10,
   "metadata": {},
   "outputs": [
    {
     "data": {
      "text/plain": [
       "6000000.0"
      ]
     },
     "execution_count": 10,
     "metadata": {},
     "output_type": "execute_result"
    }
   ],
   "source": [
    "def extract_text_from_pdf(file_path):\n",
    "    text = []\n",
    "    reader = PyPDF2.PdfReader(file_path)\n",
    "    \n",
    "    for page in reader.pages:\n",
    "        text.append(page.extract_text())\n",
    "    return text\n",
    "\n",
    "def parse_numbers(text, scale_factors):\n",
    "    maximum = 0\n",
    "    for i in range(len(text)):\n",
    "        page = text[i]\n",
    "        number_pattern = r'\\$?\\d{1,3}(?:,\\d{3})*(?:\\.\\d+)?'\n",
    "        numbers = re.findall(number_pattern, page)\n",
    "        \n",
    "        if numbers:\n",
    "            parsed_numbers = [float(num.replace(',', '').replace('$', '')) * scale_factors[i] for num in numbers]\n",
    "            maximum = max(maximum, max(parsed_numbers))\n",
    "\n",
    "    return maximum\n",
    "\n",
    "def determine_scale_factors(text, scale=False):\n",
    "    if not scale:\n",
    "        return [1] * len(text)\n",
    "    scale_factors = []\n",
    "    for page in text:\n",
    "        if \"million\" in page.lower():\n",
    "            scale_factors.append(1_000_000)\n",
    "        elif \"billion\" in page.lower():\n",
    "            scale_factors.append(1_000_000_000)\n",
    "        else:\n",
    "            scale_factors.append(1)\n",
    "    return scale_factors\n",
    "\n",
    "def find_largest_number(file_path, scale=False):\n",
    "    text = extract_text_from_pdf(file_path)\n",
    "    scale_factors = determine_scale_factors(text, scale=scale)\n",
    "    maximum = parse_numbers(text, scale_factors)\n",
    "    return maximum if maximum else None\n",
    "\n",
    "largest_number = find_largest_number('air_force_data.pdf')\n",
    "largest_number\n"
   ]
  },
  {
   "cell_type": "markdown",
   "metadata": {},
   "source": [
    "## Approach 2: Finding Highest Numerical Value Including Scale Factor\n",
    "Not entirely accurate. Definitely missing some numbers, but includes scale (ex: $1 million = 1,000,000)"
   ]
  },
  {
   "cell_type": "code",
   "execution_count": 11,
   "metadata": {},
   "outputs": [
    {
     "data": {
      "text/plain": [
       "65000000000.0"
      ]
     },
     "execution_count": 11,
     "metadata": {},
     "output_type": "execute_result"
    }
   ],
   "source": [
    "largest_number = find_largest_number('air_force_data.pdf',scale=True)\n",
    "largest_number\n"
   ]
  },
  {
   "cell_type": "markdown",
   "metadata": {},
   "source": [
    "## Approach 3: Using Llama 3.2 (Lightweight Open-Source Model) To Parse Numerical Data\n",
    "Least reliable. Response changes each time and can also take a while to run (averages ~30 seconds for me on an M2 MacBook Air)."
   ]
  },
  {
   "cell_type": "code",
   "execution_count": 12,
   "metadata": {},
   "outputs": [
    {
     "data": {
      "text/plain": [
       "'1,011,580'"
      ]
     },
     "execution_count": 12,
     "metadata": {},
     "output_type": "execute_result"
    }
   ],
   "source": [
    "def extract_text_from_pdf_for_llama(file_path):\n",
    "    with open(file_path, 'rb') as pdf_file:\n",
    "        pdf_reader = PyPDF2.PdfReader(pdf_file)\n",
    "        content = []\n",
    "        digits = '0123456789'\n",
    "        for i in range(0, len(pdf_reader.pages)):\n",
    "            filtered_text = []\n",
    "            text = pdf_reader.pages[i].extract_text().lower().split(' ')\n",
    "            million_in_text = False\n",
    "            for word in text:\n",
    "                for digit in digits:\n",
    "                    if digit in word:\n",
    "                        filtered_text.append(word)\n",
    "                        break\n",
    "                else:\n",
    "                    if 'million' in word:\n",
    "                        million_in_text = True\n",
    "                        filtered_text.append(word)\n",
    "            \n",
    "            if million_in_text:\n",
    "                content.append(' '.join(filtered_text))\n",
    "    \n",
    "    return content\n",
    "\n",
    "def find_largest_using_llama(content):\n",
    "    largest_page_values = []\n",
    "\n",
    "    for page in content:\n",
    "        response = ollama.chat(model='llama3.2:1b', messages=[\n",
    "            {\n",
    "            'role': 'user',\n",
    "            'content': f'''What is the largest numerical value here.\n",
    "\n",
    "        Convert values such as 1,000,000, $1000000, $1 million, (milions of dollars)... 1.000 all to a value like 1,000,000. Use these to determine maximum:\n",
    "\n",
    "        Do not reply with anything else. Just the numerical value, no explanation.\n",
    "\n",
    "        Content:\n",
    "        {page}''',\n",
    "            },\n",
    "        ])\n",
    "        \n",
    "        largest_page_values.append(response['message']['content'])\n",
    "\n",
    "    response = ollama.chat(model='llama3.2:1b', messages=[\n",
    "        {\n",
    "        'role': 'user',\n",
    "        'content': f'What is the largest numerical value here. Do not reply with anything else. Just the numerical value, no explanation.: {'\\n'.join(largest_page_values)}',\n",
    "        },\n",
    "    ])\n",
    "    return response['message']['content']\n",
    "\n",
    "def find_largest_number_using_llama(file_path):\n",
    "    content = extract_text_from_pdf_for_llama(file_path)\n",
    "    maximum = find_largest_using_llama(content)\n",
    "    return maximum if maximum else None\n",
    "\n",
    "largest = find_largest_number_using_llama('air_force_data.pdf')\n",
    "largest"
   ]
  }
 ],
 "metadata": {
  "kernelspec": {
   "display_name": "base",
   "language": "python",
   "name": "python3"
  },
  "language_info": {
   "codemirror_mode": {
    "name": "ipython",
    "version": 3
   },
   "file_extension": ".py",
   "mimetype": "text/x-python",
   "name": "python",
   "nbconvert_exporter": "python",
   "pygments_lexer": "ipython3",
   "version": "3.12.5"
  }
 },
 "nbformat": 4,
 "nbformat_minor": 2
}
